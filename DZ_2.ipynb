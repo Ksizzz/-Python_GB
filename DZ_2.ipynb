{
  "nbformat": 4,
  "nbformat_minor": 0,
  "metadata": {
    "celltoolbar": "Необработанный формат ячейки",
    "kernelspec": {
      "display_name": "Python 3",
      "language": "python",
      "name": "python3"
    },
    "language_info": {
      "codemirror_mode": {
        "name": "ipython",
        "version": 3
      },
      "file_extension": ".py",
      "mimetype": "text/x-python",
      "name": "python",
      "nbconvert_exporter": "python",
      "pygments_lexer": "ipython3",
      "version": "3.8.5"
    },
    "colab": {
      "name": "DZ_2.ipynb",
      "provenance": [],
      "collapsed_sections": [],
      "include_colab_link": true
    }
  },
  "cells": [
    {
      "cell_type": "markdown",
      "metadata": {
        "id": "view-in-github",
        "colab_type": "text"
      },
      "source": [
        "<a href=\"https://colab.research.google.com/github/Ksizzz/-Python_GB/blob/main/DZ_2.ipynb\" target=\"_parent\"><img src=\"https://colab.research.google.com/assets/colab-badge.svg\" alt=\"Open In Colab\"/></a>"
      ]
    },
    {
      "cell_type": "markdown",
      "metadata": {
        "id": "2ZSpiIpfUviM"
      },
      "source": [
        "### 1. Вероятность того, что стрелок попадет в мишень, выстрелив один раз, равна 0.8. Стрелок выстрелил 100 раз. Найдите вероятность того, что стрелок попадет в цель ровно 85 раз.\n",
        "\n",
        "Для решения зажачи используем формулу Бернулли"
      ]
    },
    {
      "cell_type": "code",
      "metadata": {
        "id": "DS4lX3yEUviY"
      },
      "source": [
        "n = 100\n",
        "k = 85\n",
        "p = 0.8\n",
        "q = 1 - p"
      ],
      "execution_count": 57,
      "outputs": []
    },
    {
      "cell_type": "code",
      "metadata": {
        "id": "0sYwhbi4Uvib"
      },
      "source": [
        "from math import factorial"
      ],
      "execution_count": 58,
      "outputs": []
    },
    {
      "cell_type": "code",
      "metadata": {
        "id": "fTEN9WesUvib"
      },
      "source": [
        "def combinations(n, k):\n",
        "    return int(factorial(n) / (factorial(k) * factorial(n - k)))\n"
      ],
      "execution_count": 59,
      "outputs": []
    },
    {
      "cell_type": "code",
      "metadata": {
        "id": "isM3-xaxUvic"
      },
      "source": [
        "c = combinations(n, k)"
      ],
      "execution_count": 60,
      "outputs": []
    },
    {
      "cell_type": "code",
      "metadata": {
        "colab": {
          "base_uri": "https://localhost:8080/"
        },
        "id": "z0TMMnjYUvic",
        "outputId": "fae3c224-e126-474d-ea2b-b093f44356b5"
      },
      "source": [
        "Pk = c * p**k * q**(n-k) # Вероятность того что стрелок попадёт 85 раз из 100 выстрелов\n",
        "Pk"
      ],
      "execution_count": 61,
      "outputs": [
        {
          "output_type": "execute_result",
          "data": {
            "text/plain": [
              "0.048061793700746355"
            ]
          },
          "metadata": {
            "tags": []
          },
          "execution_count": 61
        }
      ]
    },
    {
      "cell_type": "markdown",
      "metadata": {
        "id": "kTNOx_tFWMmV"
      },
      "source": [
        "### 2. Вероятность того, что лампочка перегорит в течение первого дня эксплуатации, равна 0.0004. В жилом комплексе после ремонта в один день включили 5000 новых лампочек. Какова вероятность, что ни одна из них не перегорит в первый день? Какова вероятность, что перегорят ровно две?"
      ]
    },
    {
      "cell_type": "code",
      "metadata": {
        "id": "zegsOXBxYXVq"
      },
      "source": [
        "n = 5000\n",
        "e = 2.72\n",
        "p = 0.0004\n",
        "ld = p * n"
      ],
      "execution_count": 49,
      "outputs": []
    },
    {
      "cell_type": "code",
      "metadata": {
        "id": "8tnqYzShZJCv"
      },
      "source": [
        "from math import factorial"
      ],
      "execution_count": 50,
      "outputs": []
    },
    {
      "cell_type": "code",
      "metadata": {
        "id": "hNqo2opZYmOF"
      },
      "source": [
        "def Pm(m):\n",
        "  return (ld**m/factorial(m)) * e**(-ld)"
      ],
      "execution_count": 51,
      "outputs": []
    },
    {
      "cell_type": "code",
      "metadata": {
        "colab": {
          "base_uri": "https://localhost:8080/"
        },
        "id": "2-DRN7trd782",
        "outputId": "212a1c5f-e959-4160-e575-e8c4c4b6c018"
      },
      "source": [
        "Pm(0) # Вероятность, что ни одна из них не перегорит"
      ],
      "execution_count": 55,
      "outputs": [
        {
          "output_type": "execute_result",
          "data": {
            "text/plain": [
              "0.13516435986159167"
            ]
          },
          "metadata": {
            "tags": []
          },
          "execution_count": 55
        }
      ]
    },
    {
      "cell_type": "code",
      "metadata": {
        "colab": {
          "base_uri": "https://localhost:8080/"
        },
        "id": "tES3OmJFd2Eo",
        "outputId": "bfa30564-eef1-474b-db7f-1222b4bd75f7"
      },
      "source": [
        "Pm(2)  # Вероятность, что перегорят ровно две лампочки"
      ],
      "execution_count": 54,
      "outputs": [
        {
          "output_type": "execute_result",
          "data": {
            "text/plain": [
              "0.27032871972318334"
            ]
          },
          "metadata": {
            "tags": []
          },
          "execution_count": 54
        }
      ]
    },
    {
      "cell_type": "markdown",
      "metadata": {
        "id": "COR92VY4WQ4W"
      },
      "source": [
        "### 3. Монету подбросили 144 раза. Какова вероятность, что орел выпадет ровно 70 раз?"
      ]
    },
    {
      "cell_type": "code",
      "metadata": {
        "colab": {
          "base_uri": "https://localhost:8080/"
        },
        "id": "RUaZN-4genWf",
        "outputId": "a48d3ebd-663f-4c80-dede-e0c1d30b3fe8"
      },
      "source": [
        "p = 0.5\n",
        "n = 144\n",
        "k = 70\n",
        "q = 1 - p\n",
        "c = int(factorial(n) / (factorial(k) * factorial(n - k)))\n",
        "Pk = c * p**k * q**(n-k)\n",
        "Pk # Вероятность, что орел выпадет ровно 70 раз"
      ],
      "execution_count": 68,
      "outputs": [
        {
          "output_type": "execute_result",
          "data": {
            "text/plain": [
              "0.06281178035144776"
            ]
          },
          "metadata": {
            "tags": []
          },
          "execution_count": 68
        }
      ]
    },
    {
      "cell_type": "markdown",
      "metadata": {
        "id": "ZqpWbvayWmPJ"
      },
      "source": [
        "### 4.В первом ящике находится 10 мячей, из которых 7 - белые. Во втором ящике - 11 мячей, из которых 9 белых. Из каждого ящика вытаскивают случайным образом по два мяча. Какова вероятность того, что все мячи белые? Какова вероятность того, что ровно два мяча белые? Какова вероятность того, что хотя бы один мяч белый?"
      ]
    },
    {
      "cell_type": "markdown",
      "metadata": {
        "id": "MVBrqIQnvVja"
      },
      "source": [
        "![DZ_2_4.PNG](data:image/png;base64,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)"
      ]
    },
    {
      "cell_type": "code",
      "metadata": {
        "id": "oEpyCHwtmAgy"
      },
      "source": [
        "def c(n, k):\n",
        "    return int(factorial(n) / (factorial(k) * factorial(n - k)))"
      ],
      "execution_count": 69,
      "outputs": []
    },
    {
      "cell_type": "code",
      "metadata": {
        "colab": {
          "base_uri": "https://localhost:8080/"
        },
        "id": "FV_122MJmHos",
        "outputId": "6e883a78-aa1a-4c4c-805b-17be026e380b"
      },
      "source": [
        "P_A1 = (c(7, 2)/c(10, 2)) * (c(9, 2)/c(11, 2))\n",
        "P_A1 # вероятность того, что все мячи белые"
      ],
      "execution_count": 77,
      "outputs": [
        {
          "output_type": "execute_result",
          "data": {
            "text/plain": [
              "0.3054545454545455"
            ]
          },
          "metadata": {
            "tags": []
          },
          "execution_count": 77
        }
      ]
    },
    {
      "cell_type": "code",
      "metadata": {
        "colab": {
          "base_uri": "https://localhost:8080/"
        },
        "id": "hU2qGRO4nRTg",
        "outputId": "027ba0c2-49c8-4832-f66e-85a852dedbb4"
      },
      "source": [
        "P_1 = (c(7, 2)/c(10, 2)) * (c(2, 2)/c(11, 2))\n",
        "P_1\n",
        " # вероятность того, что ровно два мяча белые"
      ],
      "execution_count": 88,
      "outputs": [
        {
          "output_type": "execute_result",
          "data": {
            "text/plain": [
              "0.008484848484848484"
            ]
          },
          "metadata": {
            "tags": []
          },
          "execution_count": 88
        }
      ]
    },
    {
      "cell_type": "code",
      "metadata": {
        "colab": {
          "base_uri": "https://localhost:8080/"
        },
        "id": "Gu1wykQptz_G",
        "outputId": "e168f39e-5e30-4044-ca59-1e4e655a3f45"
      },
      "source": [
        "P_2 = (c(3, 2)/c(10, 2)) * (c(9, 2)/c(11, 2))\n",
        "P_2"
      ],
      "execution_count": 90,
      "outputs": [
        {
          "output_type": "execute_result",
          "data": {
            "text/plain": [
              "0.04363636363636363"
            ]
          },
          "metadata": {
            "tags": []
          },
          "execution_count": 90
        }
      ]
    },
    {
      "cell_type": "code",
      "metadata": {
        "colab": {
          "base_uri": "https://localhost:8080/"
        },
        "id": "sY32564mr7HV",
        "outputId": "70e18ed2-95ef-48f6-c7a5-e57b95b1f18b"
      },
      "source": [
        "P_3 = (c(7, 1)*c(3, 1)/c(10, 2)) * (c(9, 1)*c(2, 1)/c(11, 2))\n",
        "P_3"
      ],
      "execution_count": 93,
      "outputs": [
        {
          "output_type": "execute_result",
          "data": {
            "text/plain": [
              "0.15272727272727274"
            ]
          },
          "metadata": {
            "tags": []
          },
          "execution_count": 93
        }
      ]
    },
    {
      "cell_type": "code",
      "metadata": {
        "colab": {
          "base_uri": "https://localhost:8080/"
        },
        "id": "GTXNNmx-ocUA",
        "outputId": "12a07c9f-5904-4b6a-cbba-f550742c6a6a"
      },
      "source": [
        "P_A3 = P_1 + P_2 + P_3\n",
        "P_A3 # вероятность того, что хотя бы один мяч белый"
      ],
      "execution_count": 94,
      "outputs": [
        {
          "output_type": "execute_result",
          "data": {
            "text/plain": [
              "0.20484848484848486"
            ]
          },
          "metadata": {
            "tags": []
          },
          "execution_count": 94
        }
      ]
    }
  ]
}